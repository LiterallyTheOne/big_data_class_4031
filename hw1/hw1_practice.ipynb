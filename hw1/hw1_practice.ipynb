{
 "cells": [
  {
   "cell_type": "markdown",
   "metadata": {},
   "source": [
    "# HW1 practice"
   ]
  },
  {
   "cell_type": "markdown",
   "metadata": {},
   "source": [
    "## imports"
   ]
  },
  {
   "cell_type": "code",
   "execution_count": 1,
   "metadata": {},
   "outputs": [],
   "source": [
    "import numpy as np\n",
    "import pandas as pd\n",
    "\n",
    "from pathlib import Path"
   ]
  },
  {
   "cell_type": "markdown",
   "metadata": {},
   "source": [
    "## Config"
   ]
  },
  {
   "cell_type": "code",
   "execution_count": 2,
   "metadata": {},
   "outputs": [],
   "source": [
    "root_data_path = Path(\"../data\")\n",
    "\n",
    "data_path = root_data_path / \"nasdaq.csv\"\n",
    "result_path = root_data_path / \"s1.csv\""
   ]
  },
  {
   "cell_type": "markdown",
   "metadata": {},
   "source": [
    "## Load"
   ]
  },
  {
   "cell_type": "code",
   "execution_count": 3,
   "metadata": {},
   "outputs": [],
   "source": [
    "data = pd.read_csv(\"data/nasdaq.csv\",parse_dates=[\"Date\"])\n",
    "# data[\"Date\"] = pd.to_datetime(data[\"Date\"])"
   ]
  },
  {
   "cell_type": "code",
   "execution_count": 14,
   "metadata": {},
   "outputs": [],
   "source": [
    "data_np = np.loadtxt(data_path, delimiter=\",\", skiprows=1, dtype=object)"
   ]
  },
  {
   "cell_type": "markdown",
   "metadata": {},
   "source": [
    "## Save"
   ]
  },
  {
   "cell_type": "code",
   "execution_count": 10,
   "metadata": {},
   "outputs": [],
   "source": [
    "data.to_csv(result_path)"
   ]
  },
  {
   "cell_type": "code",
   "execution_count": 18,
   "metadata": {},
   "outputs": [],
   "source": [
    "np.savetxt(result_path, data_np, fmt=\"%s\", delimiter=\",\")"
   ]
  },
  {
   "cell_type": "markdown",
   "metadata": {},
   "source": [
    "## pandas to numpy"
   ]
  },
  {
   "cell_type": "code",
   "execution_count": 19,
   "metadata": {},
   "outputs": [],
   "source": [
    "data_np = data.to_numpy()"
   ]
  },
  {
   "cell_type": "markdown",
   "metadata": {},
   "source": [
    "## min, max"
   ]
  },
  {
   "cell_type": "code",
   "execution_count": 4,
   "metadata": {},
   "outputs": [
    {
     "data": {
      "text/plain": [
       "Date         2013-10-17 00:00:00\n",
       "Open                 3822.850098\n",
       "High                  3863.48999\n",
       "Low                  3821.429932\n",
       "Close                3863.149902\n",
       "Adj Close            3863.149902\n",
       "Volume                2711270000\n",
       "dtype: object"
      ]
     },
     "execution_count": 4,
     "metadata": {},
     "output_type": "execute_result"
    }
   ],
   "source": [
    "data.max()"
   ]
  },
  {
   "cell_type": "code",
   "execution_count": 5,
   "metadata": {},
   "outputs": [
    {
     "data": {
      "text/plain": [
       "Date         2013-09-09 00:00:00\n",
       "Open                 3675.120117\n",
       "High                 3702.149902\n",
       "Low                  3650.030029\n",
       "Close                3677.780029\n",
       "Adj Close            3677.780029\n",
       "Volume                1338800000\n",
       "dtype: object"
      ]
     },
     "execution_count": 5,
     "metadata": {},
     "output_type": "execute_result"
    }
   ],
   "source": [
    "data.min()"
   ]
  },
  {
   "cell_type": "markdown",
   "metadata": {},
   "source": [
    "## Create new column"
   ]
  },
  {
   "cell_type": "code",
   "execution_count": 6,
   "metadata": {},
   "outputs": [],
   "source": [
    "data[\"new\"] = data[\"Close\"] - data[\"Open\"]"
   ]
  },
  {
   "cell_type": "markdown",
   "metadata": {},
   "source": [
    "## Sum, Substract, Multiply, devide"
   ]
  },
  {
   "cell_type": "code",
   "execution_count": 7,
   "metadata": {},
   "outputs": [
    {
     "data": {
      "text/plain": [
       "0     31.059815\n",
       "1      4.350098\n",
       "2     14.219971\n",
       "3     -8.560058\n",
       "4     -1.090088\n",
       "5    -37.149902\n",
       "6     20.389892\n",
       "7     32.349854\n",
       "8     -5.320068\n",
       "9    -21.550049\n",
       "10   -21.550049\n",
       "11    -3.350098\n",
       "12   -11.489990\n",
       "13    12.479981\n",
       "14    13.700195\n",
       "15    33.879882\n",
       "16    43.800048\n",
       "17    21.909913\n",
       "18   -35.559814\n",
       "19    33.030029\n",
       "20    -6.260010\n",
       "21   -77.389893\n",
       "22   -23.840088\n",
       "23    39.169922\n",
       "24    38.650146\n",
       "25    47.790039\n",
       "26   -16.709961\n",
       "27    24.429932\n",
       "28    40.299804\n",
       "dtype: float64"
      ]
     },
     "execution_count": 7,
     "metadata": {},
     "output_type": "execute_result"
    }
   ],
   "source": [
    "data[\"Close\"] - data[\"Open\"]"
   ]
  },
  {
   "cell_type": "code",
   "execution_count": 8,
   "metadata": {},
   "outputs": [
    {
     "data": {
      "text/plain": [
       "0     7381.300049\n",
       "1     7453.689942\n",
       "2     7435.800049\n",
       "3     7440.500000\n",
       "4     7445.449952\n",
       "5     7472.850098\n",
       "6     7471.010010\n",
       "7     7534.929932\n",
       "8     7584.079834\n",
       "9     7571.010009\n",
       "10    7552.130127\n",
       "11    7539.850098\n",
       "12    7533.690186\n",
       "13    7562.379883\n",
       "14    7549.479981\n",
       "15    7509.080078\n",
       "16    7592.159912\n",
       "17    7608.130127\n",
       "18    7584.239990\n",
       "19    7582.469971\n",
       "20    7547.019776\n",
       "21    7467.050049\n",
       "22    7379.400146\n",
       "23    7482.330078\n",
       "24    7545.090088\n",
       "25    7582.770019\n",
       "26    7604.729981\n",
       "27    7654.429932\n",
       "28    7686.000000\n",
       "dtype: float64"
      ]
     },
     "execution_count": 8,
     "metadata": {},
     "output_type": "execute_result"
    }
   ],
   "source": [
    "data[\"Close\"] + data[\"Open\"]"
   ]
  },
  {
   "cell_type": "code",
   "execution_count": 9,
   "metadata": {},
   "outputs": [
    {
     "data": {
      "text/plain": [
       "0     1.362066e+07\n",
       "1     1.388937e+07\n",
       "2     1.382273e+07\n",
       "3     1.384024e+07\n",
       "4     1.385868e+07\n",
       "5     1.396053e+07\n",
       "6     1.395389e+07\n",
       "7     1.419353e+07\n",
       "8     1.437956e+07\n",
       "9     1.432993e+07\n",
       "10    1.425855e+07\n",
       "11    1.421233e+07\n",
       "12    1.418909e+07\n",
       "13    1.429736e+07\n",
       "14    1.424862e+07\n",
       "15    1.409628e+07\n",
       "16    1.440974e+07\n",
       "17    1.447079e+07\n",
       "18    1.437986e+07\n",
       "19    1.437319e+07\n",
       "20    1.423937e+07\n",
       "21    1.393771e+07\n",
       "22    1.361374e+07\n",
       "23    1.399593e+07\n",
       "24    1.423172e+07\n",
       "25    1.437403e+07\n",
       "26    1.445791e+07\n",
       "27    1.464743e+07\n",
       "28    1.476824e+07\n",
       "dtype: float64"
      ]
     },
     "execution_count": 9,
     "metadata": {},
     "output_type": "execute_result"
    }
   ],
   "source": [
    "data[\"Close\"] * data[\"Open\"]"
   ]
  },
  {
   "cell_type": "code",
   "execution_count": 10,
   "metadata": {},
   "outputs": [
    {
     "data": {
      "text/plain": [
       "0     1.008451\n",
       "1     1.001168\n",
       "2     1.003832\n",
       "3     0.997702\n",
       "4     0.999707\n",
       "5     0.990107\n",
       "6     1.005473\n",
       "7     1.008624\n",
       "8     0.998598\n",
       "9     0.994323\n",
       "10    0.994309\n",
       "11    0.999112\n",
       "12    0.996954\n",
       "13    1.003306\n",
       "14    1.003636\n",
       "15    1.009065\n",
       "16    1.011605\n",
       "17    1.005776\n",
       "18    0.990666\n",
       "19    1.008750\n",
       "20    0.998342\n",
       "21    0.979484\n",
       "22    0.993560\n",
       "23    1.010525\n",
       "24    1.010298\n",
       "25    1.012685\n",
       "26    0.995615\n",
       "27    1.006404\n",
       "28    1.010542\n",
       "dtype: float64"
      ]
     },
     "execution_count": 10,
     "metadata": {},
     "output_type": "execute_result"
    }
   ],
   "source": [
    "data[\"Close\"] / data[\"Open\"]"
   ]
  },
  {
   "cell_type": "markdown",
   "metadata": {},
   "source": [
    "## Filtering data"
   ]
  },
  {
   "cell_type": "code",
   "execution_count": 14,
   "metadata": {},
   "outputs": [
    {
     "data": {
      "text/html": [
       "<div>\n",
       "<style scoped>\n",
       "    .dataframe tbody tr th:only-of-type {\n",
       "        vertical-align: middle;\n",
       "    }\n",
       "\n",
       "    .dataframe tbody tr th {\n",
       "        vertical-align: top;\n",
       "    }\n",
       "\n",
       "    .dataframe thead th {\n",
       "        text-align: right;\n",
       "    }\n",
       "</style>\n",
       "<table border=\"1\" class=\"dataframe\">\n",
       "  <thead>\n",
       "    <tr style=\"text-align: right;\">\n",
       "      <th></th>\n",
       "      <th>Date</th>\n",
       "      <th>Open</th>\n",
       "      <th>High</th>\n",
       "      <th>Low</th>\n",
       "      <th>Close</th>\n",
       "      <th>Adj Close</th>\n",
       "      <th>Volume</th>\n",
       "      <th>new</th>\n",
       "    </tr>\n",
       "  </thead>\n",
       "  <tbody>\n",
       "    <tr>\n",
       "      <th>17</th>\n",
       "      <td>2013-10-02</td>\n",
       "      <td>3793.110107</td>\n",
       "      <td>3819.280029</td>\n",
       "      <td>3788.449951</td>\n",
       "      <td>3815.020020</td>\n",
       "      <td>3815.020020</td>\n",
       "      <td>1792980000</td>\n",
       "      <td>21.909913</td>\n",
       "    </tr>\n",
       "    <tr>\n",
       "      <th>18</th>\n",
       "      <td>2013-10-03</td>\n",
       "      <td>3809.899902</td>\n",
       "      <td>3816.959961</td>\n",
       "      <td>3753.169922</td>\n",
       "      <td>3774.340088</td>\n",
       "      <td>3774.340088</td>\n",
       "      <td>1884340000</td>\n",
       "      <td>-35.559814</td>\n",
       "    </tr>\n",
       "    <tr>\n",
       "      <th>19</th>\n",
       "      <td>2013-10-04</td>\n",
       "      <td>3774.719971</td>\n",
       "      <td>3812.860107</td>\n",
       "      <td>3773.399902</td>\n",
       "      <td>3807.750000</td>\n",
       "      <td>3807.750000</td>\n",
       "      <td>1549600000</td>\n",
       "      <td>33.030029</td>\n",
       "    </tr>\n",
       "    <tr>\n",
       "      <th>20</th>\n",
       "      <td>2013-10-07</td>\n",
       "      <td>3776.639893</td>\n",
       "      <td>3800.080078</td>\n",
       "      <td>3769.750000</td>\n",
       "      <td>3770.379883</td>\n",
       "      <td>3770.379883</td>\n",
       "      <td>1475990000</td>\n",
       "      <td>-6.260010</td>\n",
       "    </tr>\n",
       "    <tr>\n",
       "      <th>21</th>\n",
       "      <td>2013-10-08</td>\n",
       "      <td>3772.219971</td>\n",
       "      <td>3772.489990</td>\n",
       "      <td>3694.149902</td>\n",
       "      <td>3694.830078</td>\n",
       "      <td>3694.830078</td>\n",
       "      <td>2087580000</td>\n",
       "      <td>-77.389893</td>\n",
       "    </tr>\n",
       "    <tr>\n",
       "      <th>22</th>\n",
       "      <td>2013-10-09</td>\n",
       "      <td>3701.620117</td>\n",
       "      <td>3702.149902</td>\n",
       "      <td>3650.030029</td>\n",
       "      <td>3677.780029</td>\n",
       "      <td>3677.780029</td>\n",
       "      <td>2242700000</td>\n",
       "      <td>-23.840088</td>\n",
       "    </tr>\n",
       "    <tr>\n",
       "      <th>23</th>\n",
       "      <td>2013-10-10</td>\n",
       "      <td>3721.580078</td>\n",
       "      <td>3764.719971</td>\n",
       "      <td>3721.110107</td>\n",
       "      <td>3760.750000</td>\n",
       "      <td>3760.750000</td>\n",
       "      <td>1902410000</td>\n",
       "      <td>39.169922</td>\n",
       "    </tr>\n",
       "    <tr>\n",
       "      <th>24</th>\n",
       "      <td>2013-10-11</td>\n",
       "      <td>3753.219971</td>\n",
       "      <td>3794.370117</td>\n",
       "      <td>3751.379883</td>\n",
       "      <td>3791.870117</td>\n",
       "      <td>3791.870117</td>\n",
       "      <td>1750350000</td>\n",
       "      <td>38.650146</td>\n",
       "    </tr>\n",
       "    <tr>\n",
       "      <th>25</th>\n",
       "      <td>2013-10-14</td>\n",
       "      <td>3767.489990</td>\n",
       "      <td>3816.409912</td>\n",
       "      <td>3766.280029</td>\n",
       "      <td>3815.280029</td>\n",
       "      <td>3815.280029</td>\n",
       "      <td>1455160000</td>\n",
       "      <td>47.790039</td>\n",
       "    </tr>\n",
       "    <tr>\n",
       "      <th>26</th>\n",
       "      <td>2013-10-15</td>\n",
       "      <td>3810.719971</td>\n",
       "      <td>3824.439941</td>\n",
       "      <td>3789.679932</td>\n",
       "      <td>3794.010010</td>\n",
       "      <td>3794.010010</td>\n",
       "      <td>1745560000</td>\n",
       "      <td>-16.709961</td>\n",
       "    </tr>\n",
       "    <tr>\n",
       "      <th>27</th>\n",
       "      <td>2013-10-16</td>\n",
       "      <td>3815.000000</td>\n",
       "      <td>3840.479980</td>\n",
       "      <td>3814.149902</td>\n",
       "      <td>3839.429932</td>\n",
       "      <td>3839.429932</td>\n",
       "      <td>1744000000</td>\n",
       "      <td>24.429932</td>\n",
       "    </tr>\n",
       "    <tr>\n",
       "      <th>28</th>\n",
       "      <td>2013-10-17</td>\n",
       "      <td>3822.850098</td>\n",
       "      <td>3863.489990</td>\n",
       "      <td>3821.429932</td>\n",
       "      <td>3863.149902</td>\n",
       "      <td>3863.149902</td>\n",
       "      <td>1975140000</td>\n",
       "      <td>40.299804</td>\n",
       "    </tr>\n",
       "  </tbody>\n",
       "</table>\n",
       "</div>"
      ],
      "text/plain": [
       "         Date         Open         High          Low        Close  \\\n",
       "17 2013-10-02  3793.110107  3819.280029  3788.449951  3815.020020   \n",
       "18 2013-10-03  3809.899902  3816.959961  3753.169922  3774.340088   \n",
       "19 2013-10-04  3774.719971  3812.860107  3773.399902  3807.750000   \n",
       "20 2013-10-07  3776.639893  3800.080078  3769.750000  3770.379883   \n",
       "21 2013-10-08  3772.219971  3772.489990  3694.149902  3694.830078   \n",
       "22 2013-10-09  3701.620117  3702.149902  3650.030029  3677.780029   \n",
       "23 2013-10-10  3721.580078  3764.719971  3721.110107  3760.750000   \n",
       "24 2013-10-11  3753.219971  3794.370117  3751.379883  3791.870117   \n",
       "25 2013-10-14  3767.489990  3816.409912  3766.280029  3815.280029   \n",
       "26 2013-10-15  3810.719971  3824.439941  3789.679932  3794.010010   \n",
       "27 2013-10-16  3815.000000  3840.479980  3814.149902  3839.429932   \n",
       "28 2013-10-17  3822.850098  3863.489990  3821.429932  3863.149902   \n",
       "\n",
       "      Adj Close      Volume        new  \n",
       "17  3815.020020  1792980000  21.909913  \n",
       "18  3774.340088  1884340000 -35.559814  \n",
       "19  3807.750000  1549600000  33.030029  \n",
       "20  3770.379883  1475990000  -6.260010  \n",
       "21  3694.830078  2087580000 -77.389893  \n",
       "22  3677.780029  2242700000 -23.840088  \n",
       "23  3760.750000  1902410000  39.169922  \n",
       "24  3791.870117  1750350000  38.650146  \n",
       "25  3815.280029  1455160000  47.790039  \n",
       "26  3794.010010  1745560000 -16.709961  \n",
       "27  3839.429932  1744000000  24.429932  \n",
       "28  3863.149902  1975140000  40.299804  "
      ]
     },
     "execution_count": 14,
     "metadata": {},
     "output_type": "execute_result"
    }
   ],
   "source": [
    "data[data[\"Date\"] > \"2013-10\"]"
   ]
  }
 ],
 "metadata": {
  "kernelspec": {
   "display_name": "pytorch_312",
   "language": "python",
   "name": "python3"
  },
  "language_info": {
   "codemirror_mode": {
    "name": "ipython",
    "version": 3
   },
   "file_extension": ".py",
   "mimetype": "text/x-python",
   "name": "python",
   "nbconvert_exporter": "python",
   "pygments_lexer": "ipython3",
   "version": "3.12.6"
  }
 },
 "nbformat": 4,
 "nbformat_minor": 2
}
